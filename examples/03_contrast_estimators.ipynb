{
 "cells": [
  {
   "cell_type": "markdown",
   "metadata": {},
   "source": [
    "# Testing speckle contrast estimators"
   ]
  },
  {
   "cell_type": "markdown",
   "metadata": {},
   "source": [
    "Import basic routines"
   ]
  },
  {
   "cell_type": "code",
   "execution_count": 5,
   "metadata": {
    "collapsed": true
   },
   "outputs": [],
   "source": [
    "import matplotlib.pyplot as plt\n",
    "import numpy as np\n",
    "from scipy.ndimage.filters import gaussian_filter\n",
    "import sys"
   ]
  },
  {
   "cell_type": "markdown",
   "metadata": {},
   "source": [
    "Import speckle related routines"
   ]
  },
  {
   "cell_type": "code",
   "execution_count": 6,
   "metadata": {
    "collapsed": true
   },
   "outputs": [],
   "source": [
    "sys.path.insert(0, '../scripts/')\n",
    "from speckle_routines import *\n",
    "from contrast_estimators import *"
   ]
  },
  {
   "cell_type": "markdown",
   "metadata": {},
   "source": [
    "parameters for the speckle pattern"
   ]
  },
  {
   "cell_type": "code",
   "execution_count": 7,
   "metadata": {
    "collapsed": true
   },
   "outputs": [],
   "source": [
    "nx,ny = 2*704,2*768 # size of array x,y\n",
    "kbar = 0.003      # mean photon density (photons per pixel)\n",
    "modes = 10       # number of modes in the speckle pattern\n",
    "specklesize = 1 # speckle size in pixel units\n",
    "nshots = 100"
   ]
  },
  {
   "cell_type": "markdown",
   "metadata": {},
   "source": [
    "Calculate the average histogram by looping over the number of shots"
   ]
  },
  {
   "cell_type": "code",
   "execution_count": 8,
   "metadata": {
    "collapsed": false
   },
   "outputs": [
    {
     "name": "stderr",
     "output_type": "stream",
     "text": [
      "/Users/fivos/pyvos/lib/python2.7/site-packages/ipykernel/__main__.py:2: DeprecationWarning: using a non-integer number instead of an integer will result in an error in the future\n",
      "  from ipykernel import kernelapp as app\n"
     ]
    },
    {
     "name": "stdout",
     "output_type": "stream",
     "text": [
      "0 [2156209    6470       9       0       0]\n",
      "1 [2156207    6474       7       0       0]\n",
      "2 [2156209    6470       9       0       0]\n",
      "3 [2156207    6474       7       0       0]\n",
      "4 [2156209    6470       9       0       0]\n",
      "5 [2156211    6466      11       0       0]\n",
      "6 [2156215    6458      15       0       0]\n",
      "7 [2156209    6470       9       0       0]\n",
      "8 [2156213    6462      13       0       0]\n",
      "9 [2156211    6466      11       0       0]\n",
      "10 [2156210    6468      10       0       0]\n",
      "11 [2156210    6468      10       0       0]\n",
      "12 [2156211    6466      11       0       0]\n",
      "13 [2156211    6466      11       0       0]\n",
      "14 [2156210    6468      10       0       0]\n",
      "15 [2156206    6476       6       0       0]\n",
      "16 [2156216    6456      16       0       0]\n",
      "17 [2156208    6472       8       0       0]\n",
      "18 [2156214    6460      14       0       0]\n",
      "19 [2156213    6462      13       0       0]\n",
      "20 [2156209    6470       9       0       0]\n",
      "21 [2156212    6464      12       0       0]\n",
      "22 [2156207    6474       7       0       0]\n",
      "23 [2156210    6468      10       0       0]\n",
      "24 [2156222    6444      22       0       0]\n",
      "25 [2156209    6470       9       0       0]\n",
      "26 [2156209    6470       9       0       0]\n",
      "27 [2156213    6462      13       0       0]\n",
      "28 [2156207    6474       7       0       0]\n",
      "29 [2156211    6466      11       0       0]\n",
      "30 [2156210    6468      10       0       0]\n",
      "31 [2156211    6466      11       0       0]\n",
      "32 [2156211    6466      11       0       0]\n",
      "33 [2156207    6474       7       0       0]\n",
      "34 [2156206    6476       6       0       0]\n",
      "35 [2156212    6464      12       0       0]\n",
      "36 [2156213    6462      13       0       0]\n",
      "37 [2156205    6478       5       0       0]\n",
      "38 [2156213    6462      13       0       0]\n",
      "39 [2156211    6466      11       0       0]\n",
      "40 [2156218    6452      18       0       0]\n",
      "41 [2156205    6478       5       0       0]\n",
      "42 [2156211    6466      11       0       0]\n",
      "43 [2156211    6466      11       0       0]\n",
      "44 [2156209    6470       9       0       0]\n",
      "45 [2156211    6466      11       0       0]\n",
      "46 [2156212    6464      12       0       0]\n",
      "47 [2156212    6464      12       0       0]\n",
      "48 [2156209    6470       9       0       0]\n",
      "49 [2156221    6446      21       0       0]\n",
      "50 [2156209    6470       9       0       0]\n",
      "51 [2156211    6466      11       0       0]\n",
      "52 [2156208    6472       8       0       0]\n",
      "53 [2156217    6454      17       0       0]\n",
      "54 [2156215    6458      15       0       0]\n",
      "55 [2156212    6464      12       0       0]\n",
      "56 [2156210    6468      10       0       0]\n",
      "57 [2156211    6466      11       0       0]\n",
      "58 [2156214    6460      14       0       0]\n",
      "59 [2156215    6458      15       0       0]\n",
      "60 [2156215    6458      15       0       0]\n",
      "61 [2156213    6462      13       0       0]\n",
      "62 [2156216    6456      16       0       0]\n",
      "63 [2156209    6470       9       0       0]\n",
      "64 [2156212    6464      12       0       0]\n",
      "65 [2156210    6468      10       0       0]\n",
      "66 [2156211    6466      11       0       0]\n",
      "67 [2156211    6466      11       0       0]\n",
      "68 [2156210    6468      10       0       0]\n",
      "69 [2156213    6462      13       0       0]\n",
      "70 [2156214    6460      14       0       0]\n",
      "71 [2156217    6454      17       0       0]\n",
      "72 [2156209    6470       9       0       0]\n",
      "73 [2156211    6466      11       0       0]\n",
      "74 [2156213    6462      13       0       0]\n",
      "75 [2156213    6462      13       0       0]\n",
      "76 [2156208    6472       8       0       0]\n",
      "77 [2156216    6456      16       0       0]\n",
      "78 [2156209    6470       9       0       0]\n",
      "79 [2156211    6466      11       0       0]\n",
      "80 [2156206    6476       6       0       0]\n",
      "81 [2156207    6474       7       0       0]\n",
      "82 [2156207    6474       7       0       0]\n",
      "83 [2156214    6460      14       0       0]\n",
      "84 [2156209    6470       9       0       0]\n",
      "85 [2156210    6468      10       0       0]\n",
      "86 [2156208    6472       8       0       0]\n",
      "87 [2156208    6472       8       0       0]\n",
      "88 [2156209    6470       9       0       0]\n",
      "89 [2156216    6456      16       0       0]\n",
      "90 [2156214    6460      14       0       0]\n",
      "91 [2156208    6472       8       0       0]\n",
      "92 [2156207    6474       7       0       0]\n",
      "93 [2156208    6472       8       0       0]\n",
      "94 [2156211    6466      11       0       0]\n",
      "95 [2156207    6474       7       0       0]\n",
      "96 [2156207    6474       7       0       0]\n",
      "97 [2156213    6462      13       0       0]\n",
      "98 [2156210    6468      10       0       0]\n",
      "99 [2156213    6462      13       0       0]\n",
      "[  9.97005074e-01   2.98988111e-03   5.04464814e-06   0.00000000e+00\n",
      "   0.00000000e+00]\n"
     ]
    }
   ],
   "source": [
    "bi,bf,db = 0.0,6.,1.\n",
    "photon_histogram = np.zeros(bf-1.,dtype=float)\n",
    "\n",
    "for i in range(nshots):\n",
    "    speckle = simulate_speckles_with_shot_noise([nx,ny],modes,specklesize,kbar)\n",
    "    hy,hx = np.histogram(speckle,bins = np.arange(bi,bf,db)) \n",
    "    photon_histogram += hy\n",
    "    print i,hy\n",
    "\n",
    "photon_histogram /= np.float32(nshots*nx*ny)\n",
    "print photon_histogram"
   ]
  },
  {
   "cell_type": "markdown",
   "metadata": {},
   "source": [
    "Calculate the contrast from the photon histogram"
   ]
  },
  {
   "cell_type": "code",
   "execution_count": 9,
   "metadata": {
    "collapsed": false
   },
   "outputs": [
    {
     "name": "stdout",
     "output_type": "stream",
     "text": [
      "ml: 0.121327057052 10.7649220388\n",
      "ae: 0.125249572236\n"
     ]
    }
   ],
   "source": [
    "# maximum likelihood estimator\n",
    "contrast, err = fit_negative_binomial_from_hist(photon_histogram, method='ml', limit=1e-4)\n",
    "print 'ml:',contrast,err\n",
    "\n",
    "# analytical estimator\n",
    "contrast2 = analytical_estimator(kbar,photon_histogram[1],photon_histogram[2])\n",
    "print 'ae:',contrast2\n",
    "\n",
    "# pmf's\n",
    "x = np.arange(-0.5,4.,0.1)\n",
    "y_in = negative_binomial_pmf(x,kbar,1./modes)\n",
    "y_ml = negative_binomial_pmf(x,kbar,contrast)\n",
    "y_ae = negative_binomial_pmf(x,kbar,contrast2)"
   ]
  },
  {
   "cell_type": "markdown",
   "metadata": {},
   "source": [
    "Plot the resulting histogram and fits"
   ]
  },
  {
   "cell_type": "code",
   "execution_count": 10,
   "metadata": {
    "collapsed": false
   },
   "outputs": [
    {
     "data": {
      "image/png": "[encoded data removed]",
      "text/plain": [
       "<matplotlib.figure.Figure at 0x10cf88210>"
      ]
     },
     "metadata": {},
     "output_type": "display_data"
    }
   ],
   "source": [
    "plt.figure(figsize = [10,3])\n",
    "\n",
    "plt.subplot(1,2,1)\n",
    "plt.imshow(speckle,interpolation='none')\n",
    "\n",
    "plt.subplot(1,2,2)\n",
    "plt.plot(hx[:-1],photon_histogram,'bo')\n",
    "#plt.bar(hx[:-1]-db/2.,hy,width = db)\n",
    "plt.plot(x,y_in,c='green',lw=1,label='in = %.3f'%(1./modes),alpha=0.5)\n",
    "plt.plot(x,y_ml,c='red',lw=1,label='ml = %.3f'%(contrast),alpha=0.5)\n",
    "plt.plot(x,y_ae,c='orange',lw=1,label='ae = %.3f'%(contrast2),alpha=0.5)\n",
    "plt.yscale('log',nonposy='clip')\n",
    "plt.xlabel('Number of photons')\n",
    "plt.ylabel('Probability')\n",
    "plt.legend()\n",
    "plt.show()"
   ]
  }
 ],
 "metadata": {
  "kernelspec": {
   "display_name": "Python 2",
   "language": "python",
   "name": "python2"
  },
  "language_info": {
   "codemirror_mode": {
    "name": "ipython",
    "version": 2
   },
   "file_extension": ".py",
   "mimetype": "text/x-python",
   "name": "python",
   "nbconvert_exporter": "python",
   "pygments_lexer": "ipython2",
   "version": "2.7.10"
  }
 },
 "nbformat": 4,
 "nbformat_minor": 1
}
